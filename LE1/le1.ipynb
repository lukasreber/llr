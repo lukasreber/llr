{
 "cells": [
  {
   "cell_type": "code",
   "execution_count": 112,
   "source": [
    "import numpy as np\n",
    "import math\n",
    "import matplotlib.pyplot as plt\n",
    "from sklearn.linear_model import LinearRegression"
   ],
   "outputs": [],
   "metadata": {}
  },
  {
   "cell_type": "code",
   "execution_count": 39,
   "source": [
    "data = np.array([[20,50],[30,50],[15,25],[80,64],[90,90],[70,82],[40,68],[60,70],[50,40],[10,30]])"
   ],
   "outputs": [],
   "metadata": {}
  },
  {
   "cell_type": "code",
   "execution_count": 59,
   "source": [
    "list(data[:,0])"
   ],
   "outputs": [
    {
     "output_type": "execute_result",
     "data": {
      "text/plain": [
       "[20, 30, 15, 80, 90, 70, 40, 60, 50, 10]"
      ]
     },
     "metadata": {},
     "execution_count": 59
    }
   ],
   "metadata": {}
  },
  {
   "cell_type": "code",
   "execution_count": 107,
   "source": [
    "# kleinste Quadrate\n",
    "def kl_quad(xy):\n",
    "    xmean = xy[:,0].mean()\n",
    "    ymean = xy[:,1].mean()\n",
    "    top = 0\n",
    "    btm = 0\n",
    "    for x,y in xy:\n",
    "        top += (x-xmean)*(y-ymean)\n",
    "        btm += (x-xmean)*(x-xmean)\n",
    "    \n",
    "    beta = top/btm\n",
    "    alpha = ymean - beta*xmean\n",
    "\n",
    "    print(f'alpha = {alpha}, beta = {beta}')\n",
    "    return (alpha,beta)"
   ],
   "outputs": [],
   "metadata": {}
  },
  {
   "cell_type": "code",
   "execution_count": 109,
   "source": [
    "a,b = kl_quad(data)"
   ],
   "outputs": [
    {
     "output_type": "stream",
     "name": "stdout",
     "text": [
      "alpha = 26.80675818373812, beta = 0.6471664906722985\n"
     ]
    }
   ],
   "metadata": {}
  },
  {
   "cell_type": "code",
   "execution_count": 110,
   "source": [
    "xd = list(range(100))\n",
    "yd = [a+b*x for x in xd]\n"
   ],
   "outputs": [],
   "metadata": {}
  },
  {
   "cell_type": "code",
   "execution_count": 111,
   "source": [
    "x = data[:,0]\n",
    "y = data[:,1]\n",
    "\n",
    "print(x,y)\n",
    "plt.scatter(x,y)\n",
    "plt.plot(xd,yd,'r')\n",
    "plt.show()"
   ],
   "outputs": [
    {
     "output_type": "stream",
     "name": "stdout",
     "text": [
      "[20 30 15 80 90 70 40 60 50 10] [50 50 25 64 90 82 68 70 40 30]\n"
     ]
    },
    {
     "output_type": "display_data",
     "data": {
      "image/png": "[encoded data removed]",
      "text/plain": [
       "<Figure size 432x288 with 1 Axes>"
      ]
     },
     "metadata": {
      "needs_background": "light"
     }
    }
   ],
   "metadata": {}
  },
  {
   "cell_type": "markdown",
   "source": [
    "## Using SciKit Learn"
   ],
   "metadata": {}
  },
  {
   "cell_type": "code",
   "execution_count": 116,
   "source": [
    "x = x.reshape((-1,1))\n",
    "\n",
    "print(x,y)"
   ],
   "outputs": [
    {
     "output_type": "stream",
     "name": "stdout",
     "text": [
      "[[20]\n",
      " [30]\n",
      " [15]\n",
      " [80]\n",
      " [90]\n",
      " [70]\n",
      " [40]\n",
      " [60]\n",
      " [50]\n",
      " [10]] [50 50 25 64 90 82 68 70 40 30]\n"
     ]
    }
   ],
   "metadata": {}
  },
  {
   "cell_type": "code",
   "execution_count": 119,
   "source": [
    "model = LinearRegression().fit(x,y)"
   ],
   "outputs": [],
   "metadata": {}
  },
  {
   "cell_type": "code",
   "execution_count": 120,
   "source": [
    "# Bestimmungsmass R squared\n",
    "model.score(x,y)"
   ],
   "outputs": [
    {
     "output_type": "execute_result",
     "data": {
      "text/plain": [
       "0.7094614167700685"
      ]
     },
     "metadata": {},
     "execution_count": 120
    }
   ],
   "metadata": {}
  },
  {
   "cell_type": "code",
   "execution_count": 121,
   "source": [
    "# Alpha\n",
    "model.intercept_"
   ],
   "outputs": [
    {
     "output_type": "execute_result",
     "data": {
      "text/plain": [
       "26.806758183738115"
      ]
     },
     "metadata": {},
     "execution_count": 121
    }
   ],
   "metadata": {}
  },
  {
   "cell_type": "code",
   "execution_count": 122,
   "source": [
    "# Beta\n",
    "model.coef_"
   ],
   "outputs": [
    {
     "output_type": "execute_result",
     "data": {
      "text/plain": [
       "array([0.64716649])"
      ]
     },
     "metadata": {},
     "execution_count": 122
    }
   ],
   "metadata": {}
  },
  {
   "cell_type": "code",
   "execution_count": null,
   "source": [],
   "outputs": [],
   "metadata": {}
  }
 ],
 "metadata": {
  "orig_nbformat": 4,
  "language_info": {
   "name": "python",
   "version": "3.8.3",
   "mimetype": "text/x-python",
   "codemirror_mode": {
    "name": "ipython",
    "version": 3
   },
   "pygments_lexer": "ipython3",
   "nbconvert_exporter": "python",
   "file_extension": ".py"
  },
  "kernelspec": {
   "name": "python3",
   "display_name": "Python 3.8.3 64-bit"
  },
  "interpreter": {
   "hash": "aee8b7b246df8f9039afb4144a1f6fd8d2ca17a180786b69acc140d282b71a49"
  }
 },
 "nbformat": 4,
 "nbformat_minor": 2
}