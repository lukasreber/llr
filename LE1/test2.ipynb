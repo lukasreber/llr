{
 "cells": [
  {
   "cell_type": "code",
   "execution_count": 13,
   "metadata": {},
   "outputs": [],
   "source": [
    "from sklearn.linear_models import LinearRegression\n",
    "import matplotlib.pyplot as plt\n"
   ]
  },
  {
   "cell_type": "code",
   "execution_count": 5,
   "metadata": {},
   "outputs": [],
   "source": [
    "data = pd.read_csv('employees.csv')"
   ]
  },
  {
   "cell_type": "code",
   "execution_count": 7,
   "metadata": {},
   "outputs": [
    {
     "data": {
      "text/html": [
       "<div>\n",
       "<style scoped>\n",
       "    .dataframe tbody tr th:only-of-type {\n",
       "        vertical-align: middle;\n",
       "    }\n",
       "\n",
       "    .dataframe tbody tr th {\n",
       "        vertical-align: top;\n",
       "    }\n",
       "\n",
       "    .dataframe thead th {\n",
       "        text-align: right;\n",
       "    }\n",
       "</style>\n",
       "<table border=\"1\" class=\"dataframe\">\n",
       "  <thead>\n",
       "    <tr style=\"text-align: right;\">\n",
       "      <th></th>\n",
       "      <th>EmployeeNumber</th>\n",
       "      <th>Surname</th>\n",
       "      <th>GivenName</th>\n",
       "      <th>Gender</th>\n",
       "      <th>City</th>\n",
       "      <th>JobTitle</th>\n",
       "      <th>DepartmentName</th>\n",
       "      <th>StoreLocation</th>\n",
       "      <th>Division</th>\n",
       "      <th>Age</th>\n",
       "      <th>LengthService</th>\n",
       "      <th>AbsentHours</th>\n",
       "      <th>BusinessUnit</th>\n",
       "    </tr>\n",
       "  </thead>\n",
       "  <tbody>\n",
       "    <tr>\n",
       "      <th>0</th>\n",
       "      <td>1</td>\n",
       "      <td>Gutierrez</td>\n",
       "      <td>Molly</td>\n",
       "      <td>F</td>\n",
       "      <td>Burnaby</td>\n",
       "      <td>Baker</td>\n",
       "      <td>Bakery</td>\n",
       "      <td>Burnaby</td>\n",
       "      <td>Stores</td>\n",
       "      <td>32.028816</td>\n",
       "      <td>6.018478</td>\n",
       "      <td>36.577306</td>\n",
       "      <td>Stores</td>\n",
       "    </tr>\n",
       "    <tr>\n",
       "      <th>1</th>\n",
       "      <td>2</td>\n",
       "      <td>Hardwick</td>\n",
       "      <td>Stephen</td>\n",
       "      <td>M</td>\n",
       "      <td>Courtenay</td>\n",
       "      <td>Baker</td>\n",
       "      <td>Bakery</td>\n",
       "      <td>Nanaimo</td>\n",
       "      <td>Stores</td>\n",
       "      <td>40.320902</td>\n",
       "      <td>5.532445</td>\n",
       "      <td>30.165072</td>\n",
       "      <td>Stores</td>\n",
       "    </tr>\n",
       "    <tr>\n",
       "      <th>2</th>\n",
       "      <td>3</td>\n",
       "      <td>Delgado</td>\n",
       "      <td>Chester</td>\n",
       "      <td>M</td>\n",
       "      <td>Richmond</td>\n",
       "      <td>Baker</td>\n",
       "      <td>Bakery</td>\n",
       "      <td>Richmond</td>\n",
       "      <td>Stores</td>\n",
       "      <td>48.822047</td>\n",
       "      <td>4.389973</td>\n",
       "      <td>83.807798</td>\n",
       "      <td>Stores</td>\n",
       "    </tr>\n",
       "    <tr>\n",
       "      <th>3</th>\n",
       "      <td>4</td>\n",
       "      <td>Simon</td>\n",
       "      <td>Irene</td>\n",
       "      <td>F</td>\n",
       "      <td>Victoria</td>\n",
       "      <td>Baker</td>\n",
       "      <td>Bakery</td>\n",
       "      <td>Victoria</td>\n",
       "      <td>Stores</td>\n",
       "      <td>44.599357</td>\n",
       "      <td>3.081736</td>\n",
       "      <td>70.020165</td>\n",
       "      <td>Stores</td>\n",
       "    </tr>\n",
       "    <tr>\n",
       "      <th>5</th>\n",
       "      <td>6</td>\n",
       "      <td>Jones</td>\n",
       "      <td>Ernie</td>\n",
       "      <td>M</td>\n",
       "      <td>Richmond</td>\n",
       "      <td>Baker</td>\n",
       "      <td>Bakery</td>\n",
       "      <td>Richmond</td>\n",
       "      <td>Stores</td>\n",
       "      <td>48.440311</td>\n",
       "      <td>2.717692</td>\n",
       "      <td>81.830079</td>\n",
       "      <td>Stores</td>\n",
       "    </tr>\n",
       "    <tr>\n",
       "      <th>6</th>\n",
       "      <td>7</td>\n",
       "      <td>Buford</td>\n",
       "      <td>Ralph</td>\n",
       "      <td>M</td>\n",
       "      <td>Vancouver</td>\n",
       "      <td>Accounting Clerk</td>\n",
       "      <td>Accounting</td>\n",
       "      <td>Vancouver</td>\n",
       "      <td>FinanceAndAccounting</td>\n",
       "      <td>50.752730</td>\n",
       "      <td>10.157918</td>\n",
       "      <td>60.495072</td>\n",
       "      <td>HeadOffice</td>\n",
       "    </tr>\n",
       "    <tr>\n",
       "      <th>7</th>\n",
       "      <td>8</td>\n",
       "      <td>Lee</td>\n",
       "      <td>Gregory</td>\n",
       "      <td>M</td>\n",
       "      <td>Sechelt</td>\n",
       "      <td>Baker</td>\n",
       "      <td>Bakery</td>\n",
       "      <td>West Vancouver</td>\n",
       "      <td>Stores</td>\n",
       "      <td>36.216031</td>\n",
       "      <td>4.432123</td>\n",
       "      <td>30.072902</td>\n",
       "      <td>Stores</td>\n",
       "    </tr>\n",
       "    <tr>\n",
       "      <th>8</th>\n",
       "      <td>9</td>\n",
       "      <td>Smith</td>\n",
       "      <td>Jerry</td>\n",
       "      <td>M</td>\n",
       "      <td>New Westminster</td>\n",
       "      <td>Baker</td>\n",
       "      <td>Bakery</td>\n",
       "      <td>New Westminster</td>\n",
       "      <td>Stores</td>\n",
       "      <td>58.427380</td>\n",
       "      <td>6.940121</td>\n",
       "      <td>181.630819</td>\n",
       "      <td>Stores</td>\n",
       "    </tr>\n",
       "    <tr>\n",
       "      <th>9</th>\n",
       "      <td>10</td>\n",
       "      <td>Beard</td>\n",
       "      <td>Robert</td>\n",
       "      <td>M</td>\n",
       "      <td>Vancouver</td>\n",
       "      <td>Accounting Clerk</td>\n",
       "      <td>Accounting</td>\n",
       "      <td>Vancouver</td>\n",
       "      <td>FinanceAndAccounting</td>\n",
       "      <td>39.853980</td>\n",
       "      <td>13.848321</td>\n",
       "      <td>30.664408</td>\n",
       "      <td>HeadOffice</td>\n",
       "    </tr>\n",
       "    <tr>\n",
       "      <th>10</th>\n",
       "      <td>11</td>\n",
       "      <td>Mathis</td>\n",
       "      <td>John</td>\n",
       "      <td>M</td>\n",
       "      <td>New Westminster</td>\n",
       "      <td>Baker</td>\n",
       "      <td>Bakery</td>\n",
       "      <td>New Westminster</td>\n",
       "      <td>Stores</td>\n",
       "      <td>46.547581</td>\n",
       "      <td>4.872038</td>\n",
       "      <td>28.018353</td>\n",
       "      <td>Stores</td>\n",
       "    </tr>\n",
       "  </tbody>\n",
       "</table>\n",
       "</div>"
      ],
      "text/plain": [
       "    EmployeeNumber    Surname GivenName Gender             City  \\\n",
       "0                1  Gutierrez     Molly      F          Burnaby   \n",
       "1                2   Hardwick   Stephen      M        Courtenay   \n",
       "2                3    Delgado   Chester      M         Richmond   \n",
       "3                4      Simon     Irene      F         Victoria   \n",
       "5                6      Jones     Ernie      M         Richmond   \n",
       "6                7     Buford     Ralph      M        Vancouver   \n",
       "7                8        Lee   Gregory      M          Sechelt   \n",
       "8                9      Smith     Jerry      M  New Westminster   \n",
       "9               10      Beard    Robert      M        Vancouver   \n",
       "10              11     Mathis      John      M  New Westminster   \n",
       "\n",
       "            JobTitle DepartmentName    StoreLocation              Division  \\\n",
       "0              Baker         Bakery          Burnaby                Stores   \n",
       "1              Baker         Bakery          Nanaimo                Stores   \n",
       "2              Baker         Bakery         Richmond                Stores   \n",
       "3              Baker         Bakery         Victoria                Stores   \n",
       "5              Baker         Bakery         Richmond                Stores   \n",
       "6   Accounting Clerk     Accounting        Vancouver  FinanceAndAccounting   \n",
       "7              Baker         Bakery   West Vancouver                Stores   \n",
       "8              Baker         Bakery  New Westminster                Stores   \n",
       "9   Accounting Clerk     Accounting        Vancouver  FinanceAndAccounting   \n",
       "10             Baker         Bakery  New Westminster                Stores   \n",
       "\n",
       "          Age  LengthService  AbsentHours BusinessUnit  \n",
       "0   32.028816       6.018478    36.577306       Stores  \n",
       "1   40.320902       5.532445    30.165072       Stores  \n",
       "2   48.822047       4.389973    83.807798       Stores  \n",
       "3   44.599357       3.081736    70.020165       Stores  \n",
       "5   48.440311       2.717692    81.830079       Stores  \n",
       "6   50.752730      10.157918    60.495072   HeadOffice  \n",
       "7   36.216031       4.432123    30.072902       Stores  \n",
       "8   58.427380       6.940121   181.630819       Stores  \n",
       "9   39.853980      13.848321    30.664408   HeadOffice  \n",
       "10  46.547581       4.872038    28.018353       Stores  "
      ]
     },
     "execution_count": 7,
     "metadata": {},
     "output_type": "execute_result"
    }
   ],
   "source": [
    "data.head(10)"
   ]
  },
  {
   "cell_type": "code",
   "execution_count": 6,
   "metadata": {},
   "outputs": [],
   "source": [
    "data = data.drop(data[data['AbsentHours'] == 0].index)"
   ]
  },
  {
   "cell_type": "code",
   "execution_count": 9,
   "metadata": {},
   "outputs": [
    {
     "data": {
      "text/plain": [
       "array([[32.02881569],\n",
       "       [40.32090167],\n",
       "       [48.82204661],\n",
       "       ...,\n",
       "       [58.34716046],\n",
       "       [43.34061557],\n",
       "       [46.19278191]])"
      ]
     },
     "execution_count": 9,
     "metadata": {},
     "output_type": "execute_result"
    }
   ],
   "source": [
    "x = data.Age.values.reshape(-1,1)\n",
    "x"
   ]
  },
  {
   "cell_type": "code",
   "execution_count": 10,
   "metadata": {},
   "outputs": [
    {
     "data": {
      "text/plain": [
       "array([ 36.57730606,  30.16507231,  83.80779766, ..., 176.3569396 ,\n",
       "        60.3219172 , 112.0233888 ])"
      ]
     },
     "execution_count": 10,
     "metadata": {},
     "output_type": "execute_result"
    }
   ],
   "source": [
    "y = data.AbsentHours.values\n",
    "y"
   ]
  },
  {
   "cell_type": "code",
   "execution_count": 16,
   "metadata": {},
   "outputs": [],
   "source": [
    "model = LinearRegression().fit(x,y)"
   ]
  },
  {
   "cell_type": "code",
   "execution_count": 17,
   "metadata": {},
   "outputs": [],
   "source": [
    "y_pred = model.predict(x)"
   ]
  },
  {
   "cell_type": "code",
   "execution_count": 19,
   "metadata": {},
   "outputs": [
    {
     "data": {
      "text/plain": [
       "[<matplotlib.lines.Line2D at 0x7fc58c5abbb0>]"
      ]
     },
     "execution_count": 19,
     "metadata": {},
     "output_type": "execute_result"
    },
    {
     "data": {
      "image/png": "[encoded data removed]",
      "text/plain": [
       "<Figure size 432x288 with 1 Axes>"
      ]
     },
     "metadata": {
      "needs_background": "light"
     },
     "output_type": "display_data"
    }
   ],
   "source": [
    "plt.scatter(x,y)\n",
    "plt.plot(x,y_pred, c='r')"
   ]
  },
  {
   "cell_type": "code",
   "execution_count": 22,
   "metadata": {},
   "outputs": [
    {
     "data": {
      "text/plain": [
       "0.6493487820751211"
      ]
     },
     "execution_count": 22,
     "metadata": {},
     "output_type": "execute_result"
    }
   ],
   "source": [
    "model.score(x,y)"
   ]
  },
  {
   "cell_type": "code",
   "execution_count": 23,
   "metadata": {},
   "outputs": [],
   "source": [
    "residuen = y-y_pred"
   ]
  },
  {
   "cell_type": "code",
   "execution_count": 24,
   "metadata": {},
   "outputs": [
    {
     "data": {
      "text/plain": [
       "<matplotlib.collections.PathCollection at 0x7fc58c698d00>"
      ]
     },
     "execution_count": 24,
     "metadata": {},
     "output_type": "execute_result"
    },
    {
     "data": {
      "image/png": "[encoded data removed]",
      "text/plain": [
       "<Figure size 432x288 with 1 Axes>"
      ]
     },
     "metadata": {
      "needs_background": "light"
     },
     "output_type": "display_data"
    }
   ],
   "source": [
    "plt.scatter(x,residuen)"
   ]
  },
  {
   "cell_type": "code",
   "execution_count": 27,
   "metadata": {},
   "outputs": [
    {
     "data": {
      "image/png": "[encoded data removed]",
      "text/plain": [
       "<Figure size 432x288 with 1 Axes>"
      ]
     },
     "metadata": {
      "needs_background": "light"
     },
     "output_type": "display_data"
    }
   ],
   "source": [
    "plt.hist(residuen,100)\n",
    "plt.show()"
   ]
  },
  {
   "cell_type": "code",
   "execution_count": null,
   "metadata": {},
   "outputs": [],
   "source": []
  }
 ],
 "metadata": {
  "interpreter": {
   "hash": "752579dbebe7f4dfe7c1aa72eac13e23fc88be2cc1ea7ab14e1f8d69b2d97d12"
  },
  "kernelspec": {
   "display_name": "Python 3.8.3 64-bit",
   "name": "python3"
  },
  "language_info": {
   "codemirror_mode": {
    "name": "ipython",
    "version": 3
   },
   "file_extension": ".py",
   "mimetype": "text/x-python",
   "name": "python",
   "nbconvert_exporter": "python",
   "pygments_lexer": "ipython3",
   "version": "3.8.3"
  }
 },
 "nbformat": 4,
 "nbformat_minor": 2
}
