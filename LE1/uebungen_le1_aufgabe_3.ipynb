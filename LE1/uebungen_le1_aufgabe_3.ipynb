{
 "cells": [
  {
   "cell_type": "code",
   "execution_count": 43,
   "source": [
    "import numpy as np\n",
    "import pandas as pd\n",
    "from sklearn.linear_model import LinearRegression\n",
    "import matplotlib.pyplot as plt"
   ],
   "outputs": [],
   "metadata": {}
  },
  {
   "cell_type": "code",
   "execution_count": 3,
   "source": [
    "data = pd.read_csv('employees.csv')"
   ],
   "outputs": [],
   "metadata": {}
  },
  {
   "cell_type": "code",
   "execution_count": 18,
   "source": [
    "data.head(10)"
   ],
   "outputs": [
    {
     "output_type": "execute_result",
     "data": {
      "text/html": [
       "<div>\n",
       "<style scoped>\n",
       "    .dataframe tbody tr th:only-of-type {\n",
       "        vertical-align: middle;\n",
       "    }\n",
       "\n",
       "    .dataframe tbody tr th {\n",
       "        vertical-align: top;\n",
       "    }\n",
       "\n",
       "    .dataframe thead th {\n",
       "        text-align: right;\n",
       "    }\n",
       "</style>\n",
       "<table border=\"1\" class=\"dataframe\">\n",
       "  <thead>\n",
       "    <tr style=\"text-align: right;\">\n",
       "      <th></th>\n",
       "      <th>EmployeeNumber</th>\n",
       "      <th>Surname</th>\n",
       "      <th>GivenName</th>\n",
       "      <th>Gender</th>\n",
       "      <th>City</th>\n",
       "      <th>JobTitle</th>\n",
       "      <th>DepartmentName</th>\n",
       "      <th>StoreLocation</th>\n",
       "      <th>Division</th>\n",
       "      <th>Age</th>\n",
       "      <th>LengthService</th>\n",
       "      <th>AbsentHours</th>\n",
       "      <th>BusinessUnit</th>\n",
       "    </tr>\n",
       "  </thead>\n",
       "  <tbody>\n",
       "    <tr>\n",
       "      <th>0</th>\n",
       "      <td>1</td>\n",
       "      <td>Gutierrez</td>\n",
       "      <td>Molly</td>\n",
       "      <td>F</td>\n",
       "      <td>Burnaby</td>\n",
       "      <td>Baker</td>\n",
       "      <td>Bakery</td>\n",
       "      <td>Burnaby</td>\n",
       "      <td>Stores</td>\n",
       "      <td>32.028816</td>\n",
       "      <td>6.018478</td>\n",
       "      <td>36.577306</td>\n",
       "      <td>Stores</td>\n",
       "    </tr>\n",
       "    <tr>\n",
       "      <th>1</th>\n",
       "      <td>2</td>\n",
       "      <td>Hardwick</td>\n",
       "      <td>Stephen</td>\n",
       "      <td>M</td>\n",
       "      <td>Courtenay</td>\n",
       "      <td>Baker</td>\n",
       "      <td>Bakery</td>\n",
       "      <td>Nanaimo</td>\n",
       "      <td>Stores</td>\n",
       "      <td>40.320902</td>\n",
       "      <td>5.532445</td>\n",
       "      <td>30.165072</td>\n",
       "      <td>Stores</td>\n",
       "    </tr>\n",
       "    <tr>\n",
       "      <th>2</th>\n",
       "      <td>3</td>\n",
       "      <td>Delgado</td>\n",
       "      <td>Chester</td>\n",
       "      <td>M</td>\n",
       "      <td>Richmond</td>\n",
       "      <td>Baker</td>\n",
       "      <td>Bakery</td>\n",
       "      <td>Richmond</td>\n",
       "      <td>Stores</td>\n",
       "      <td>48.822047</td>\n",
       "      <td>4.389973</td>\n",
       "      <td>83.807798</td>\n",
       "      <td>Stores</td>\n",
       "    </tr>\n",
       "    <tr>\n",
       "      <th>3</th>\n",
       "      <td>4</td>\n",
       "      <td>Simon</td>\n",
       "      <td>Irene</td>\n",
       "      <td>F</td>\n",
       "      <td>Victoria</td>\n",
       "      <td>Baker</td>\n",
       "      <td>Bakery</td>\n",
       "      <td>Victoria</td>\n",
       "      <td>Stores</td>\n",
       "      <td>44.599357</td>\n",
       "      <td>3.081736</td>\n",
       "      <td>70.020165</td>\n",
       "      <td>Stores</td>\n",
       "    </tr>\n",
       "    <tr>\n",
       "      <th>4</th>\n",
       "      <td>5</td>\n",
       "      <td>Delvalle</td>\n",
       "      <td>Edward</td>\n",
       "      <td>M</td>\n",
       "      <td>New Westminster</td>\n",
       "      <td>Baker</td>\n",
       "      <td>Bakery</td>\n",
       "      <td>New Westminster</td>\n",
       "      <td>Stores</td>\n",
       "      <td>35.697876</td>\n",
       "      <td>3.619091</td>\n",
       "      <td>0.000000</td>\n",
       "      <td>Stores</td>\n",
       "    </tr>\n",
       "    <tr>\n",
       "      <th>5</th>\n",
       "      <td>6</td>\n",
       "      <td>Jones</td>\n",
       "      <td>Ernie</td>\n",
       "      <td>M</td>\n",
       "      <td>Richmond</td>\n",
       "      <td>Baker</td>\n",
       "      <td>Bakery</td>\n",
       "      <td>Richmond</td>\n",
       "      <td>Stores</td>\n",
       "      <td>48.440311</td>\n",
       "      <td>2.717692</td>\n",
       "      <td>81.830079</td>\n",
       "      <td>Stores</td>\n",
       "    </tr>\n",
       "    <tr>\n",
       "      <th>6</th>\n",
       "      <td>7</td>\n",
       "      <td>Buford</td>\n",
       "      <td>Ralph</td>\n",
       "      <td>M</td>\n",
       "      <td>Vancouver</td>\n",
       "      <td>Accounting Clerk</td>\n",
       "      <td>Accounting</td>\n",
       "      <td>Vancouver</td>\n",
       "      <td>FinanceAndAccounting</td>\n",
       "      <td>50.752730</td>\n",
       "      <td>10.157918</td>\n",
       "      <td>60.495072</td>\n",
       "      <td>HeadOffice</td>\n",
       "    </tr>\n",
       "    <tr>\n",
       "      <th>7</th>\n",
       "      <td>8</td>\n",
       "      <td>Lee</td>\n",
       "      <td>Gregory</td>\n",
       "      <td>M</td>\n",
       "      <td>Sechelt</td>\n",
       "      <td>Baker</td>\n",
       "      <td>Bakery</td>\n",
       "      <td>West Vancouver</td>\n",
       "      <td>Stores</td>\n",
       "      <td>36.216031</td>\n",
       "      <td>4.432123</td>\n",
       "      <td>30.072902</td>\n",
       "      <td>Stores</td>\n",
       "    </tr>\n",
       "    <tr>\n",
       "      <th>8</th>\n",
       "      <td>9</td>\n",
       "      <td>Smith</td>\n",
       "      <td>Jerry</td>\n",
       "      <td>M</td>\n",
       "      <td>New Westminster</td>\n",
       "      <td>Baker</td>\n",
       "      <td>Bakery</td>\n",
       "      <td>New Westminster</td>\n",
       "      <td>Stores</td>\n",
       "      <td>58.427380</td>\n",
       "      <td>6.940121</td>\n",
       "      <td>181.630819</td>\n",
       "      <td>Stores</td>\n",
       "    </tr>\n",
       "    <tr>\n",
       "      <th>9</th>\n",
       "      <td>10</td>\n",
       "      <td>Beard</td>\n",
       "      <td>Robert</td>\n",
       "      <td>M</td>\n",
       "      <td>Vancouver</td>\n",
       "      <td>Accounting Clerk</td>\n",
       "      <td>Accounting</td>\n",
       "      <td>Vancouver</td>\n",
       "      <td>FinanceAndAccounting</td>\n",
       "      <td>39.853980</td>\n",
       "      <td>13.848321</td>\n",
       "      <td>30.664408</td>\n",
       "      <td>HeadOffice</td>\n",
       "    </tr>\n",
       "  </tbody>\n",
       "</table>\n",
       "</div>"
      ],
      "text/plain": [
       "   EmployeeNumber    Surname GivenName Gender             City  \\\n",
       "0               1  Gutierrez     Molly      F          Burnaby   \n",
       "1               2   Hardwick   Stephen      M        Courtenay   \n",
       "2               3    Delgado   Chester      M         Richmond   \n",
       "3               4      Simon     Irene      F         Victoria   \n",
       "4               5   Delvalle    Edward      M  New Westminster   \n",
       "5               6      Jones     Ernie      M         Richmond   \n",
       "6               7     Buford     Ralph      M        Vancouver   \n",
       "7               8        Lee   Gregory      M          Sechelt   \n",
       "8               9      Smith     Jerry      M  New Westminster   \n",
       "9              10      Beard    Robert      M        Vancouver   \n",
       "\n",
       "           JobTitle DepartmentName    StoreLocation              Division  \\\n",
       "0             Baker         Bakery          Burnaby                Stores   \n",
       "1             Baker         Bakery          Nanaimo                Stores   \n",
       "2             Baker         Bakery         Richmond                Stores   \n",
       "3             Baker         Bakery         Victoria                Stores   \n",
       "4             Baker         Bakery  New Westminster                Stores   \n",
       "5             Baker         Bakery         Richmond                Stores   \n",
       "6  Accounting Clerk     Accounting        Vancouver  FinanceAndAccounting   \n",
       "7             Baker         Bakery   West Vancouver                Stores   \n",
       "8             Baker         Bakery  New Westminster                Stores   \n",
       "9  Accounting Clerk     Accounting        Vancouver  FinanceAndAccounting   \n",
       "\n",
       "         Age  LengthService  AbsentHours BusinessUnit  \n",
       "0  32.028816       6.018478    36.577306       Stores  \n",
       "1  40.320902       5.532445    30.165072       Stores  \n",
       "2  48.822047       4.389973    83.807798       Stores  \n",
       "3  44.599357       3.081736    70.020165       Stores  \n",
       "4  35.697876       3.619091     0.000000       Stores  \n",
       "5  48.440311       2.717692    81.830079       Stores  \n",
       "6  50.752730      10.157918    60.495072   HeadOffice  \n",
       "7  36.216031       4.432123    30.072902       Stores  \n",
       "8  58.427380       6.940121   181.630819       Stores  \n",
       "9  39.853980      13.848321    30.664408   HeadOffice  "
      ]
     },
     "metadata": {},
     "execution_count": 18
    }
   ],
   "metadata": {}
  },
  {
   "cell_type": "code",
   "execution_count": 31,
   "source": [
    "data.dtypes"
   ],
   "outputs": [
    {
     "output_type": "execute_result",
     "data": {
      "text/plain": [
       "EmployeeNumber      int64\n",
       "Surname            object\n",
       "GivenName          object\n",
       "Gender             object\n",
       "City               object\n",
       "JobTitle           object\n",
       "DepartmentName     object\n",
       "StoreLocation      object\n",
       "Division           object\n",
       "Age               float64\n",
       "LengthService     float64\n",
       "AbsentHours       float64\n",
       "BusinessUnit       object\n",
       "dtype: object"
      ]
     },
     "metadata": {},
     "execution_count": 31
    }
   ],
   "metadata": {}
  },
  {
   "cell_type": "code",
   "execution_count": 23,
   "source": [
    "data.describe()"
   ],
   "outputs": [
    {
     "output_type": "execute_result",
     "data": {
      "text/html": [
       "<div>\n",
       "<style scoped>\n",
       "    .dataframe tbody tr th:only-of-type {\n",
       "        vertical-align: middle;\n",
       "    }\n",
       "\n",
       "    .dataframe tbody tr th {\n",
       "        vertical-align: top;\n",
       "    }\n",
       "\n",
       "    .dataframe thead th {\n",
       "        text-align: right;\n",
       "    }\n",
       "</style>\n",
       "<table border=\"1\" class=\"dataframe\">\n",
       "  <thead>\n",
       "    <tr style=\"text-align: right;\">\n",
       "      <th></th>\n",
       "      <th>EmployeeNumber</th>\n",
       "      <th>Age</th>\n",
       "      <th>LengthService</th>\n",
       "      <th>AbsentHours</th>\n",
       "    </tr>\n",
       "  </thead>\n",
       "  <tbody>\n",
       "    <tr>\n",
       "      <th>count</th>\n",
       "      <td>8336.000000</td>\n",
       "      <td>8336.000000</td>\n",
       "      <td>8336.000000</td>\n",
       "      <td>8336.000000</td>\n",
       "    </tr>\n",
       "    <tr>\n",
       "      <th>mean</th>\n",
       "      <td>4168.500000</td>\n",
       "      <td>42.007086</td>\n",
       "      <td>4.782910</td>\n",
       "      <td>61.283978</td>\n",
       "    </tr>\n",
       "    <tr>\n",
       "      <th>std</th>\n",
       "      <td>2406.540255</td>\n",
       "      <td>9.939798</td>\n",
       "      <td>2.462990</td>\n",
       "      <td>49.038365</td>\n",
       "    </tr>\n",
       "    <tr>\n",
       "      <th>min</th>\n",
       "      <td>1.000000</td>\n",
       "      <td>3.504743</td>\n",
       "      <td>0.012098</td>\n",
       "      <td>0.000000</td>\n",
       "    </tr>\n",
       "    <tr>\n",
       "      <th>25%</th>\n",
       "      <td>2084.750000</td>\n",
       "      <td>35.298748</td>\n",
       "      <td>3.575892</td>\n",
       "      <td>19.127590</td>\n",
       "    </tr>\n",
       "    <tr>\n",
       "      <th>50%</th>\n",
       "      <td>4168.500000</td>\n",
       "      <td>42.114924</td>\n",
       "      <td>4.600248</td>\n",
       "      <td>56.005808</td>\n",
       "    </tr>\n",
       "    <tr>\n",
       "      <th>75%</th>\n",
       "      <td>6252.250000</td>\n",
       "      <td>48.666943</td>\n",
       "      <td>5.623922</td>\n",
       "      <td>94.284692</td>\n",
       "    </tr>\n",
       "    <tr>\n",
       "      <th>max</th>\n",
       "      <td>8336.000000</td>\n",
       "      <td>77.938003</td>\n",
       "      <td>43.735239</td>\n",
       "      <td>272.530123</td>\n",
       "    </tr>\n",
       "  </tbody>\n",
       "</table>\n",
       "</div>"
      ],
      "text/plain": [
       "       EmployeeNumber          Age  LengthService  AbsentHours\n",
       "count     8336.000000  8336.000000    8336.000000  8336.000000\n",
       "mean      4168.500000    42.007086       4.782910    61.283978\n",
       "std       2406.540255     9.939798       2.462990    49.038365\n",
       "min          1.000000     3.504743       0.012098     0.000000\n",
       "25%       2084.750000    35.298748       3.575892    19.127590\n",
       "50%       4168.500000    42.114924       4.600248    56.005808\n",
       "75%       6252.250000    48.666943       5.623922    94.284692\n",
       "max       8336.000000    77.938003      43.735239   272.530123"
      ]
     },
     "metadata": {},
     "execution_count": 23
    }
   ],
   "metadata": {}
  },
  {
   "cell_type": "markdown",
   "source": [
    "Da laut Aufgabenstellung mindestens jede Person einmal gefehlt hat, dürfen die AbsendHours nicht 0 sein\n",
    "\n",
    "Mindestalter bei 3.5 ist auch etwas verdächtig"
   ],
   "metadata": {}
  },
  {
   "cell_type": "code",
   "execution_count": 29,
   "source": [
    "# remove all entries with 0 absent hours\n",
    "data = data.drop(data[data['AbsentHours'] == 0].index)"
   ],
   "outputs": [],
   "metadata": {}
  },
  {
   "cell_type": "code",
   "execution_count": 34,
   "source": [
    "data.describe()"
   ],
   "outputs": [
    {
     "output_type": "execute_result",
     "data": {
      "text/html": [
       "<div>\n",
       "<style scoped>\n",
       "    .dataframe tbody tr th:only-of-type {\n",
       "        vertical-align: middle;\n",
       "    }\n",
       "\n",
       "    .dataframe tbody tr th {\n",
       "        vertical-align: top;\n",
       "    }\n",
       "\n",
       "    .dataframe thead th {\n",
       "        text-align: right;\n",
       "    }\n",
       "</style>\n",
       "<table border=\"1\" class=\"dataframe\">\n",
       "  <thead>\n",
       "    <tr style=\"text-align: right;\">\n",
       "      <th></th>\n",
       "      <th>EmployeeNumber</th>\n",
       "      <th>Age</th>\n",
       "      <th>LengthService</th>\n",
       "      <th>AbsentHours</th>\n",
       "    </tr>\n",
       "  </thead>\n",
       "  <tbody>\n",
       "    <tr>\n",
       "      <th>count</th>\n",
       "      <td>7016.000000</td>\n",
       "      <td>7016.000000</td>\n",
       "      <td>7016.000000</td>\n",
       "      <td>7016.000000</td>\n",
       "    </tr>\n",
       "    <tr>\n",
       "      <th>mean</th>\n",
       "      <td>4173.259265</td>\n",
       "      <td>44.431816</td>\n",
       "      <td>4.725939</td>\n",
       "      <td>72.814030</td>\n",
       "    </tr>\n",
       "    <tr>\n",
       "      <th>std</th>\n",
       "      <td>2399.021709</td>\n",
       "      <td>8.405747</td>\n",
       "      <td>2.182588</td>\n",
       "      <td>44.917608</td>\n",
       "    </tr>\n",
       "    <tr>\n",
       "      <th>min</th>\n",
       "      <td>1.000000</td>\n",
       "      <td>21.453808</td>\n",
       "      <td>0.053279</td>\n",
       "      <td>0.009680</td>\n",
       "    </tr>\n",
       "    <tr>\n",
       "      <th>25%</th>\n",
       "      <td>2092.750000</td>\n",
       "      <td>38.471232</td>\n",
       "      <td>3.562743</td>\n",
       "      <td>38.163118</td>\n",
       "    </tr>\n",
       "    <tr>\n",
       "      <th>50%</th>\n",
       "      <td>4190.500000</td>\n",
       "      <td>43.905133</td>\n",
       "      <td>4.595590</td>\n",
       "      <td>67.932227</td>\n",
       "    </tr>\n",
       "    <tr>\n",
       "      <th>75%</th>\n",
       "      <td>6260.250000</td>\n",
       "      <td>49.788294</td>\n",
       "      <td>5.606392</td>\n",
       "      <td>101.355790</td>\n",
       "    </tr>\n",
       "    <tr>\n",
       "      <th>max</th>\n",
       "      <td>8336.000000</td>\n",
       "      <td>77.938003</td>\n",
       "      <td>39.447349</td>\n",
       "      <td>272.530123</td>\n",
       "    </tr>\n",
       "  </tbody>\n",
       "</table>\n",
       "</div>"
      ],
      "text/plain": [
       "       EmployeeNumber          Age  LengthService  AbsentHours\n",
       "count     7016.000000  7016.000000    7016.000000  7016.000000\n",
       "mean      4173.259265    44.431816       4.725939    72.814030\n",
       "std       2399.021709     8.405747       2.182588    44.917608\n",
       "min          1.000000    21.453808       0.053279     0.009680\n",
       "25%       2092.750000    38.471232       3.562743    38.163118\n",
       "50%       4190.500000    43.905133       4.595590    67.932227\n",
       "75%       6260.250000    49.788294       5.606392   101.355790\n",
       "max       8336.000000    77.938003      39.447349   272.530123"
      ]
     },
     "metadata": {},
     "execution_count": 34
    }
   ],
   "metadata": {}
  },
  {
   "cell_type": "markdown",
   "source": [
    "Nun haben alle Mitarbeitenden mindestens eine Absenz, zudem wurde damit auch gleich das Alterslimit auf 21 gehoben."
   ],
   "metadata": {}
  },
  {
   "cell_type": "code",
   "execution_count": 78,
   "source": [
    "# linear regression with absenthours and age\n",
    "x = np.array(data[\"Age\"]).reshape(-1,1)\n",
    "y = np.array(data[\"AbsentHours\"])\n",
    "\n",
    "model = LinearRegression().fit(x,y)\n",
    "\n",
    "print(f'R Squared of Linear Regression: {model.score(x,y)}')\n",
    "# Je näher der Wert an 1 ist desto besser\n",
    "\n",
    "new_y = model.predict(x)\n",
    "\n",
    "plt.scatter(x,y)\n",
    "plt.plot(x,new_y,'r')\n",
    "plt.title('Linear Regression with AbsentHours and Age')\n",
    "plt.xlabel('Age')\n",
    "plt.ylabel('AbsentHours')\n",
    "plt.show()"
   ],
   "outputs": [
    {
     "output_type": "stream",
     "name": "stdout",
     "text": [
      "R Squared of Linear Regression: 0.6493487820751211\n"
     ]
    },
    {
     "output_type": "display_data",
     "data": {
      "image/png": "[encoded data removed]",
      "text/plain": [
       "<Figure size 432x288 with 1 Axes>"
      ]
     },
     "metadata": {
      "needs_background": "light"
     }
    }
   ],
   "metadata": {}
  },
  {
   "cell_type": "code",
   "execution_count": 82,
   "source": [
    "# calculate residues\n",
    "residuen = y-new_y\n",
    "plt.scatter(x,residuen)\n",
    "plt.xlabel('Age')\n",
    "plt.ylabel('Residuen')\n",
    "plt.show()"
   ],
   "outputs": [
    {
     "output_type": "display_data",
     "data": {
      "image/png": "[encoded data removed]",
      "text/plain": [
       "<Figure size 432x288 with 1 Axes>"
      ]
     },
     "metadata": {
      "needs_background": "light"
     }
    }
   ],
   "metadata": {}
  },
  {
   "cell_type": "markdown",
   "source": [
    "### Residuenanalyse\n",
    "\n",
    "1) Die Residuen haben den Erwartungswert 0, dh. es sollten keine systematischen Fehler geben im Modell: Mit zunehmendem Alter (bis ca 50) gibt es immer mehr Datenpunkte (Employees), was was erklärt?\n",
    "2) Die Fehler sollten unabhängig voneinander sein\n",
    "3) Die Fehler sollten normalsverteilt sein: Erfüllt, siehe Histogram\n",
    "\n",
    "Es ist für die Firma empfehlenswert möglichst Junge Mitarbeitende einzustellen, da die Abwesenheiten mit steigendem Alter zunehmen"
   ],
   "metadata": {}
  },
  {
   "cell_type": "code",
   "execution_count": 80,
   "source": [
    "# plot histogram of residues to look at distribution\n",
    "plt.hist(residuen, 100)\n",
    "plt.show()"
   ],
   "outputs": [
    {
     "output_type": "display_data",
     "data": {
      "image/png": "[encoded data removed]",
      "text/plain": [
       "<Figure size 432x288 with 1 Axes>"
      ]
     },
     "metadata": {
      "needs_background": "light"
     }
    }
   ],
   "metadata": {}
  },
  {
   "cell_type": "code",
   "execution_count": 67,
   "source": [
    "# linear regression with absenthours and LenghtService\n",
    "x = np.array(data[\"AbsentHours\"]).reshape(-1,1)\n",
    "y = np.array(data[\"LengthService\"])\n",
    "\n",
    "model = LinearRegression().fit(x,y)\n",
    "\n",
    "print(f'R Squared of Linear Regression: {model.score(x,y)}')\n",
    "# Je näher der Wert an 1 ist desto besser\n",
    "\n",
    "new_y = model.predict(x)\n",
    "\n",
    "plt.scatter(x,y)\n",
    "plt.plot(x,new_y,'r')\n",
    "plt.title('Linear Regression with AbsentHours and LenghtService')\n",
    "plt.xlabel('AbsentHours')\n",
    "plt.ylabel('LenghtService')\n",
    "plt.show()"
   ],
   "outputs": [
    {
     "output_type": "stream",
     "name": "stdout",
     "text": [
      "R Squared of Linear Regression: 0.0005010210095048873\n"
     ]
    },
    {
     "output_type": "display_data",
     "data": {
      "image/png": "[encoded data removed]",
      "text/plain": [
       "<Figure size 432x288 with 1 Axes>"
      ]
     },
     "metadata": {
      "needs_background": "light"
     }
    }
   ],
   "metadata": {}
  },
  {
   "cell_type": "code",
   "execution_count": null,
   "source": [],
   "outputs": [],
   "metadata": {}
  }
 ],
 "metadata": {
  "orig_nbformat": 4,
  "language_info": {
   "name": "python",
   "version": "3.8.3",
   "mimetype": "text/x-python",
   "codemirror_mode": {
    "name": "ipython",
    "version": 3
   },
   "pygments_lexer": "ipython3",
   "nbconvert_exporter": "python",
   "file_extension": ".py"
  },
  "kernelspec": {
   "name": "python3",
   "display_name": "Python 3.8.3 64-bit"
  },
  "interpreter": {
   "hash": "aee8b7b246df8f9039afb4144a1f6fd8d2ca17a180786b69acc140d282b71a49"
  }
 },
 "nbformat": 4,
 "nbformat_minor": 2
}