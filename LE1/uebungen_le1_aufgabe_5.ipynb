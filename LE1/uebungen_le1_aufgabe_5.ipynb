{
 "cells": [
  {
   "cell_type": "code",
   "execution_count": 4,
   "source": [
    "import numpy as np\n",
    "import pandas as pd\n",
    "from sklearn.linear_model import LogisticRegression\n",
    "from sklearn.metrics import classification_report,confusion_matrix\n",
    "import matplotlib.pyplot as plt"
   ],
   "outputs": [],
   "metadata": {}
  },
  {
   "cell_type": "code",
   "execution_count": 2,
   "source": [
    "data = pd.read_csv('umfragedaten_v1_an.csv')"
   ],
   "outputs": [],
   "metadata": {}
  },
  {
   "cell_type": "code",
   "execution_count": 3,
   "source": [
    "data.head(10)"
   ],
   "outputs": [
    {
     "output_type": "execute_result",
     "data": {
      "text/html": [
       "<div>\n",
       "<style scoped>\n",
       "    .dataframe tbody tr th:only-of-type {\n",
       "        vertical-align: middle;\n",
       "    }\n",
       "\n",
       "    .dataframe tbody tr th {\n",
       "        vertical-align: top;\n",
       "    }\n",
       "\n",
       "    .dataframe thead th {\n",
       "        text-align: right;\n",
       "    }\n",
       "</style>\n",
       "<table border=\"1\" class=\"dataframe\">\n",
       "  <thead>\n",
       "    <tr style=\"text-align: right;\">\n",
       "      <th></th>\n",
       "      <th>ID</th>\n",
       "      <th>GESCHL</th>\n",
       "      <th>GEBJAHR</th>\n",
       "      <th>BERUFSTAETIG</th>\n",
       "      <th>ARBEITSSTD</th>\n",
       "      <th>ARZTBES</th>\n",
       "      <th>RAUCH</th>\n",
       "      <th>GRO</th>\n",
       "      <th>GEW</th>\n",
       "      <th>SCHULABSCHLUSS</th>\n",
       "      <th>SCHULABSCHLUSS_V</th>\n",
       "      <th>SCHULABSCHLUSS_M</th>\n",
       "      <th>HOE_ABSCHLUSS</th>\n",
       "      <th>HOE_ABSCHLUSS_V</th>\n",
       "      <th>HOE_ABSCHLUSS_M</th>\n",
       "      <th>NETTO</th>\n",
       "      <th>ZUFR</th>\n",
       "    </tr>\n",
       "  </thead>\n",
       "  <tbody>\n",
       "    <tr>\n",
       "      <th>0</th>\n",
       "      <td>1359</td>\n",
       "      <td>WEIBLICH</td>\n",
       "      <td>1967.0</td>\n",
       "      <td>NICHT ERWERBSTAETIG</td>\n",
       "      <td>NaN</td>\n",
       "      <td>1.0</td>\n",
       "      <td>JA</td>\n",
       "      <td>162.0</td>\n",
       "      <td>79.0</td>\n",
       "      <td>MITTLERE REIFE</td>\n",
       "      <td>MITTLERE REIFE</td>\n",
       "      <td>HOCHSCHULREIFE</td>\n",
       "      <td>LEHRE</td>\n",
       "      <td>GEWERBL.,LANDW.LEHRE</td>\n",
       "      <td>MEISTER, TECHNIKER</td>\n",
       "      <td>475.0</td>\n",
       "      <td>10.0</td>\n",
       "    </tr>\n",
       "    <tr>\n",
       "      <th>1</th>\n",
       "      <td>2455</td>\n",
       "      <td>WEIBLICH</td>\n",
       "      <td>1964.0</td>\n",
       "      <td>HAUPTBERUFL.HALBTAGS</td>\n",
       "      <td>30.0</td>\n",
       "      <td>1.0</td>\n",
       "      <td>NEIN</td>\n",
       "      <td>165.0</td>\n",
       "      <td>59.0</td>\n",
       "      <td>MITTLERE REIFE</td>\n",
       "      <td>VOLKS-,HAUPTSCHULE</td>\n",
       "      <td>VOLKS-,HAUPTSCHULE</td>\n",
       "      <td>LEHRE</td>\n",
       "      <td>MEISTER, TECHNIKER</td>\n",
       "      <td>KAUFMAENNISCHE LEHRE</td>\n",
       "      <td>780.0</td>\n",
       "      <td>9.0</td>\n",
       "    </tr>\n",
       "    <tr>\n",
       "      <th>2</th>\n",
       "      <td>200</td>\n",
       "      <td>MAENNLICH</td>\n",
       "      <td>1980.0</td>\n",
       "      <td>NICHT ERWERBSTAETIG</td>\n",
       "      <td>NaN</td>\n",
       "      <td>3.0</td>\n",
       "      <td>NEIN</td>\n",
       "      <td>166.0</td>\n",
       "      <td>86.0</td>\n",
       "      <td>HOCHSCHULREIFE</td>\n",
       "      <td>HOCHSCHULREIFE</td>\n",
       "      <td>HOCHSCHULREIFE</td>\n",
       "      <td>HOCHSCHULABSCHLUSS</td>\n",
       "      <td>HOCHSCHULABSCHLUSS</td>\n",
       "      <td>HOCHSCHULABSCHLUSS</td>\n",
       "      <td>NaN</td>\n",
       "      <td>8.0</td>\n",
       "    </tr>\n",
       "    <tr>\n",
       "      <th>3</th>\n",
       "      <td>1280</td>\n",
       "      <td>MAENNLICH</td>\n",
       "      <td>1968.0</td>\n",
       "      <td>HAUPTBERUFL.GANZTAGS</td>\n",
       "      <td>50.0</td>\n",
       "      <td>0.0</td>\n",
       "      <td>NEIN</td>\n",
       "      <td>180.0</td>\n",
       "      <td>95.0</td>\n",
       "      <td>FACHHOCHSCHULREIFE</td>\n",
       "      <td>MITTLERE REIFE</td>\n",
       "      <td>MITTLERE REIFE</td>\n",
       "      <td>FACHHOCHSCHULABSCHL.</td>\n",
       "      <td>KAUFMAENNISCHE LEHRE</td>\n",
       "      <td>KAUFMAENNISCHE LEHRE</td>\n",
       "      <td>NaN</td>\n",
       "      <td>8.0</td>\n",
       "    </tr>\n",
       "    <tr>\n",
       "      <th>4</th>\n",
       "      <td>2384</td>\n",
       "      <td>WEIBLICH</td>\n",
       "      <td>1995.0</td>\n",
       "      <td>NICHT ERWERBSTAETIG</td>\n",
       "      <td>NaN</td>\n",
       "      <td>1.0</td>\n",
       "      <td>NEIN</td>\n",
       "      <td>161.0</td>\n",
       "      <td>46.0</td>\n",
       "      <td>NOCH SCHUELER</td>\n",
       "      <td>MITTLERE REIFE</td>\n",
       "      <td>VOLKS-,HAUPTSCHULE</td>\n",
       "      <td>NOCH SCHUELER</td>\n",
       "      <td>GEWERBL.,LANDW.LEHRE</td>\n",
       "      <td>GEWERBL.,LANDW.LEHRE</td>\n",
       "      <td>NaN</td>\n",
       "      <td>7.0</td>\n",
       "    </tr>\n",
       "    <tr>\n",
       "      <th>5</th>\n",
       "      <td>2258</td>\n",
       "      <td>MAENNLICH</td>\n",
       "      <td>1992.0</td>\n",
       "      <td>HAUPTBERUFL.HALBTAGS</td>\n",
       "      <td>13.0</td>\n",
       "      <td>0.0</td>\n",
       "      <td>NEIN</td>\n",
       "      <td>187.0</td>\n",
       "      <td>93.0</td>\n",
       "      <td>FACHHOCHSCHULREIFE</td>\n",
       "      <td>NaN</td>\n",
       "      <td>NaN</td>\n",
       "      <td>KEIN ABSCHLUSS</td>\n",
       "      <td>NaN</td>\n",
       "      <td>NaN</td>\n",
       "      <td>NaN</td>\n",
       "      <td>9.0</td>\n",
       "    </tr>\n",
       "    <tr>\n",
       "      <th>6</th>\n",
       "      <td>837</td>\n",
       "      <td>MAENNLICH</td>\n",
       "      <td>1967.0</td>\n",
       "      <td>HAUPTBERUFL.GANZTAGS</td>\n",
       "      <td>47.0</td>\n",
       "      <td>0.0</td>\n",
       "      <td>NEIN</td>\n",
       "      <td>194.0</td>\n",
       "      <td>96.0</td>\n",
       "      <td>ANDERER ABSCHLUSS</td>\n",
       "      <td>VOLKS-,HAUPTSCHULE</td>\n",
       "      <td>VOLKS-,HAUPTSCHULE</td>\n",
       "      <td>MEISTER, TECHNIKER</td>\n",
       "      <td>GEWERBL.,LANDW.LEHRE</td>\n",
       "      <td>KEIN ABSCHLUSS</td>\n",
       "      <td>4000.0</td>\n",
       "      <td>8.0</td>\n",
       "    </tr>\n",
       "    <tr>\n",
       "      <th>7</th>\n",
       "      <td>1343</td>\n",
       "      <td>MAENNLICH</td>\n",
       "      <td>1989.0</td>\n",
       "      <td>NEBENHER BERUFSTAE.</td>\n",
       "      <td>NaN</td>\n",
       "      <td>1.0</td>\n",
       "      <td>NEIN</td>\n",
       "      <td>173.0</td>\n",
       "      <td>70.0</td>\n",
       "      <td>VOLKS-,HAUPTSCHULE</td>\n",
       "      <td>OHNE ABSCHLUSS</td>\n",
       "      <td>OHNE ABSCHLUSS</td>\n",
       "      <td>KEIN ABSCHLUSS</td>\n",
       "      <td>KEIN ABSCHLUSS</td>\n",
       "      <td>KAUFMAENNISCHE LEHRE</td>\n",
       "      <td>400.0</td>\n",
       "      <td>9.0</td>\n",
       "    </tr>\n",
       "    <tr>\n",
       "      <th>8</th>\n",
       "      <td>3129</td>\n",
       "      <td>MAENNLICH</td>\n",
       "      <td>1960.0</td>\n",
       "      <td>HAUPTBERUFL.GANZTAGS</td>\n",
       "      <td>37.0</td>\n",
       "      <td>0.0</td>\n",
       "      <td>NEIN</td>\n",
       "      <td>175.0</td>\n",
       "      <td>85.0</td>\n",
       "      <td>VOLKS-,HAUPTSCHULE</td>\n",
       "      <td>VOLKS-,HAUPTSCHULE</td>\n",
       "      <td>VOLKS-,HAUPTSCHULE</td>\n",
       "      <td>LEHRE</td>\n",
       "      <td>GEWERBL.,LANDW.LEHRE</td>\n",
       "      <td>KAUFMAENNISCHE LEHRE</td>\n",
       "      <td>1100.0</td>\n",
       "      <td>8.0</td>\n",
       "    </tr>\n",
       "    <tr>\n",
       "      <th>9</th>\n",
       "      <td>2961</td>\n",
       "      <td>WEIBLICH</td>\n",
       "      <td>1952.0</td>\n",
       "      <td>HAUPTBERUFL.HALBTAGS</td>\n",
       "      <td>30.0</td>\n",
       "      <td>4.0</td>\n",
       "      <td>NEIN</td>\n",
       "      <td>170.0</td>\n",
       "      <td>110.0</td>\n",
       "      <td>FACHHOCHSCHULREIFE</td>\n",
       "      <td>VOLKS-,HAUPTSCHULE</td>\n",
       "      <td>VOLKS-,HAUPTSCHULE</td>\n",
       "      <td>HOCHSCHULABSCHLUSS</td>\n",
       "      <td>GEWERBL.,LANDW.LEHRE</td>\n",
       "      <td>KAUFMAENNISCHE LEHRE</td>\n",
       "      <td>2000.0</td>\n",
       "      <td>8.0</td>\n",
       "    </tr>\n",
       "  </tbody>\n",
       "</table>\n",
       "</div>"
      ],
      "text/plain": [
       "     ID     GESCHL  GEBJAHR          BERUFSTAETIG  ARBEITSSTD  ARZTBES RAUCH  \\\n",
       "0  1359   WEIBLICH   1967.0   NICHT ERWERBSTAETIG         NaN      1.0    JA   \n",
       "1  2455   WEIBLICH   1964.0  HAUPTBERUFL.HALBTAGS        30.0      1.0  NEIN   \n",
       "2   200  MAENNLICH   1980.0   NICHT ERWERBSTAETIG         NaN      3.0  NEIN   \n",
       "3  1280  MAENNLICH   1968.0  HAUPTBERUFL.GANZTAGS        50.0      0.0  NEIN   \n",
       "4  2384   WEIBLICH   1995.0   NICHT ERWERBSTAETIG         NaN      1.0  NEIN   \n",
       "5  2258  MAENNLICH   1992.0  HAUPTBERUFL.HALBTAGS        13.0      0.0  NEIN   \n",
       "6   837  MAENNLICH   1967.0  HAUPTBERUFL.GANZTAGS        47.0      0.0  NEIN   \n",
       "7  1343  MAENNLICH   1989.0   NEBENHER BERUFSTAE.         NaN      1.0  NEIN   \n",
       "8  3129  MAENNLICH   1960.0  HAUPTBERUFL.GANZTAGS        37.0      0.0  NEIN   \n",
       "9  2961   WEIBLICH   1952.0  HAUPTBERUFL.HALBTAGS        30.0      4.0  NEIN   \n",
       "\n",
       "     GRO    GEW      SCHULABSCHLUSS    SCHULABSCHLUSS_V    SCHULABSCHLUSS_M  \\\n",
       "0  162.0   79.0      MITTLERE REIFE      MITTLERE REIFE      HOCHSCHULREIFE   \n",
       "1  165.0   59.0      MITTLERE REIFE  VOLKS-,HAUPTSCHULE  VOLKS-,HAUPTSCHULE   \n",
       "2  166.0   86.0      HOCHSCHULREIFE      HOCHSCHULREIFE      HOCHSCHULREIFE   \n",
       "3  180.0   95.0  FACHHOCHSCHULREIFE      MITTLERE REIFE      MITTLERE REIFE   \n",
       "4  161.0   46.0       NOCH SCHUELER      MITTLERE REIFE  VOLKS-,HAUPTSCHULE   \n",
       "5  187.0   93.0  FACHHOCHSCHULREIFE                 NaN                 NaN   \n",
       "6  194.0   96.0   ANDERER ABSCHLUSS  VOLKS-,HAUPTSCHULE  VOLKS-,HAUPTSCHULE   \n",
       "7  173.0   70.0  VOLKS-,HAUPTSCHULE      OHNE ABSCHLUSS      OHNE ABSCHLUSS   \n",
       "8  175.0   85.0  VOLKS-,HAUPTSCHULE  VOLKS-,HAUPTSCHULE  VOLKS-,HAUPTSCHULE   \n",
       "9  170.0  110.0  FACHHOCHSCHULREIFE  VOLKS-,HAUPTSCHULE  VOLKS-,HAUPTSCHULE   \n",
       "\n",
       "          HOE_ABSCHLUSS       HOE_ABSCHLUSS_V       HOE_ABSCHLUSS_M   NETTO  \\\n",
       "0                 LEHRE  GEWERBL.,LANDW.LEHRE    MEISTER, TECHNIKER   475.0   \n",
       "1                 LEHRE    MEISTER, TECHNIKER  KAUFMAENNISCHE LEHRE   780.0   \n",
       "2    HOCHSCHULABSCHLUSS    HOCHSCHULABSCHLUSS    HOCHSCHULABSCHLUSS     NaN   \n",
       "3  FACHHOCHSCHULABSCHL.  KAUFMAENNISCHE LEHRE  KAUFMAENNISCHE LEHRE     NaN   \n",
       "4         NOCH SCHUELER  GEWERBL.,LANDW.LEHRE  GEWERBL.,LANDW.LEHRE     NaN   \n",
       "5        KEIN ABSCHLUSS                   NaN                   NaN     NaN   \n",
       "6    MEISTER, TECHNIKER  GEWERBL.,LANDW.LEHRE        KEIN ABSCHLUSS  4000.0   \n",
       "7        KEIN ABSCHLUSS        KEIN ABSCHLUSS  KAUFMAENNISCHE LEHRE   400.0   \n",
       "8                 LEHRE  GEWERBL.,LANDW.LEHRE  KAUFMAENNISCHE LEHRE  1100.0   \n",
       "9    HOCHSCHULABSCHLUSS  GEWERBL.,LANDW.LEHRE  KAUFMAENNISCHE LEHRE  2000.0   \n",
       "\n",
       "   ZUFR  \n",
       "0  10.0  \n",
       "1   9.0  \n",
       "2   8.0  \n",
       "3   8.0  \n",
       "4   7.0  \n",
       "5   9.0  \n",
       "6   8.0  \n",
       "7   9.0  \n",
       "8   8.0  \n",
       "9   8.0  "
      ]
     },
     "metadata": {},
     "execution_count": 3
    }
   ],
   "metadata": {}
  },
  {
   "cell_type": "code",
   "execution_count": 7,
   "source": [
    "data.shape"
   ],
   "outputs": [
    {
     "output_type": "execute_result",
     "data": {
      "text/plain": [
       "(3471, 17)"
      ]
     },
     "metadata": {},
     "execution_count": 7
    }
   ],
   "metadata": {}
  },
  {
   "cell_type": "code",
   "execution_count": 37,
   "source": [
    "data = data.drop(data[data.NETTO.isna()].index)\n",
    "data = data.drop(data[data.RAUCH.isna()].index)"
   ],
   "outputs": [],
   "metadata": {}
  },
  {
   "cell_type": "code",
   "execution_count": 38,
   "source": [
    "data.shape"
   ],
   "outputs": [
    {
     "output_type": "execute_result",
     "data": {
      "text/plain": [
       "(2715, 17)"
      ]
     },
     "metadata": {},
     "execution_count": 38
    }
   ],
   "metadata": {}
  },
  {
   "cell_type": "code",
   "execution_count": 39,
   "source": [
    "x = np.array(data.NETTO.values).reshape(-1,1)"
   ],
   "outputs": [],
   "metadata": {}
  },
  {
   "cell_type": "code",
   "execution_count": 40,
   "source": [
    "data.RAUCH = data.RAUCH.replace('JA',1)\n",
    "data.RAUCH = data.RAUCH.replace('NEIN',0)"
   ],
   "outputs": [],
   "metadata": {}
  },
  {
   "cell_type": "code",
   "execution_count": 41,
   "source": [
    "y = np.array(data.RAUCH)"
   ],
   "outputs": [],
   "metadata": {}
  },
  {
   "cell_type": "code",
   "execution_count": 32,
   "source": [
    "model = LogisticRegression(solver='liblinear', random_state=0)"
   ],
   "outputs": [],
   "metadata": {}
  },
  {
   "cell_type": "code",
   "execution_count": 42,
   "source": [
    "model.fit(x,y)"
   ],
   "outputs": [
    {
     "output_type": "execute_result",
     "data": {
      "text/plain": [
       "LogisticRegression(random_state=0, solver='liblinear')"
      ]
     },
     "metadata": {},
     "execution_count": 42
    }
   ],
   "metadata": {}
  },
  {
   "cell_type": "code",
   "execution_count": 43,
   "source": [
    "model.classes_"
   ],
   "outputs": [
    {
     "output_type": "execute_result",
     "data": {
      "text/plain": [
       "array([0., 1.])"
      ]
     },
     "metadata": {},
     "execution_count": 43
    }
   ],
   "metadata": {}
  },
  {
   "cell_type": "code",
   "execution_count": 48,
   "source": [
    "y_pred = model.predict(x)\n",
    "confusion_matrix(y, y_pred)"
   ],
   "outputs": [
    {
     "output_type": "execute_result",
     "data": {
      "text/plain": [
       "array([[1916,    0],\n",
       "       [ 799,    0]])"
      ]
     },
     "metadata": {},
     "execution_count": 48
    }
   ],
   "metadata": {}
  },
  {
   "cell_type": "markdown",
   "source": [
    "Sehr viele false negatives und keine true positives. Das ist ein sehr schlechtes Modell!"
   ],
   "metadata": {}
  },
  {
   "cell_type": "code",
   "execution_count": 46,
   "source": [
    "plt.plot(x,y,'o')\n",
    "plt.show()"
   ],
   "outputs": [
    {
     "output_type": "display_data",
     "data": {
      "image/png": "[encoded data removed]",
      "text/plain": [
       "<Figure size 432x288 with 1 Axes>"
      ]
     },
     "metadata": {
      "needs_background": "light"
     }
    }
   ],
   "metadata": {}
  },
  {
   "cell_type": "markdown",
   "source": [
    "Diese Daten lassen sich nicht in eine logistische Regression fitten"
   ],
   "metadata": {}
  },
  {
   "cell_type": "code",
   "execution_count": null,
   "source": [],
   "outputs": [],
   "metadata": {}
  }
 ],
 "metadata": {
  "orig_nbformat": 4,
  "language_info": {
   "name": "python",
   "version": "3.8.3",
   "mimetype": "text/x-python",
   "codemirror_mode": {
    "name": "ipython",
    "version": 3
   },
   "pygments_lexer": "ipython3",
   "nbconvert_exporter": "python",
   "file_extension": ".py"
  },
  "kernelspec": {
   "name": "python3",
   "display_name": "Python 3.8.3 64-bit"
  },
  "interpreter": {
   "hash": "752579dbebe7f4dfe7c1aa72eac13e23fc88be2cc1ea7ab14e1f8d69b2d97d12"
  }
 },
 "nbformat": 4,
 "nbformat_minor": 2
}