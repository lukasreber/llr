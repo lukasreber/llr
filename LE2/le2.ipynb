{
 "cells": [
  {
   "cell_type": "code",
   "execution_count": 1,
   "metadata": {},
   "outputs": [],
   "source": [
    "import numpy as np\n",
    "import matplotlib.pyplot as plt\n",
    "from math import exp\n",
    "import math"
   ]
  },
  {
   "cell_type": "code",
   "execution_count": 33,
   "metadata": {},
   "outputs": [],
   "source": [
    "def exp_proba(X,l):\n",
    "    return exp(-l * X)"
   ]
  },
  {
   "cell_type": "markdown",
   "metadata": {},
   "source": [
    "$$ exp(-\\lambda*X)$$\n",
    "\n",
    "Wobei $\\lambda$ der Erwartungswert ist als $1/\\lambda$\n",
    "\n",
    "Und X der Wert für welchen die Wahrscheinlichkeit berechnet werden soll"
   ]
  },
  {
   "cell_type": "code",
   "execution_count": 34,
   "metadata": {},
   "outputs": [
    {
     "name": "stdout",
     "output_type": "stream",
     "text": [
      "Probability that the waittime is at least 15 Minutes is 0.22\n"
     ]
    }
   ],
   "source": [
    "# Example for the slides\n",
    "# Erwartungswert \n",
    "X = 15\n",
    "l = 1/10\n",
    "\n",
    "res = exp_proba(X,l)\n",
    "\n",
    "print(f'Probability that the waittime is at least {X} Minutes is {round(res,2)}')"
   ]
  },
  {
   "cell_type": "markdown",
   "metadata": {},
   "source": [
    "# Aufgabe 1"
   ]
  },
  {
   "cell_type": "code",
   "execution_count": 35,
   "metadata": {},
   "outputs": [
    {
     "name": "stdout",
     "output_type": "stream",
     "text": [
      "Wahrscheinlichkeit für Brenndauer der Sparlampe mehr als 3000 Stunden ist 0.6065\n"
     ]
    }
   ],
   "source": [
    "# a\n",
    "X = 3000\n",
    "l = 1/6000\n",
    "\n",
    "res = exp_proba(X,l)\n",
    "\n",
    "print(f'Wahrscheinlichkeit für Brenndauer der Sparlampe mehr als {X} Stunden ist {round(res,4)}')"
   ]
  },
  {
   "cell_type": "code",
   "execution_count": 21,
   "metadata": {},
   "outputs": [
    {
     "data": {
      "image/png": "[encoded data removed]",
      "text/plain": [
       "<Figure size 432x288 with 1 Axes>"
      ]
     },
     "metadata": {
      "needs_background": "light"
     },
     "output_type": "display_data"
    }
   ],
   "source": [
    "step = 10\n",
    "whole_x = np.arange(0, 20000, step)\n",
    "whole_y = [exp_proba(l,x) for x in whole_x]\n",
    "\n",
    "needed_x = np.arange(0, X, step)\n",
    "needed_y = whole_y[:len(needed_x)]\n",
    "\n",
    "plt.plot(whole_x,whole_y)\n",
    "plt.fill_between(needed_x,needed_y)\n",
    "plt.show()"
   ]
  },
  {
   "cell_type": "code",
   "execution_count": 36,
   "metadata": {},
   "outputs": [
    {
     "name": "stdout",
     "output_type": "stream",
     "text": [
      "Wahrscheinlichkeit für Brenndauer der Sparlampe mehr als 1000 Stunden ist 0.6065\n",
      "Wahrscheinlichkeit für Brenndauer der Sparlampe mehr als 6000 Stunden ist 0.6065\n",
      "Somit ergibt sich eine Wahrscheinlichkeit von 0.4786\n"
     ]
    }
   ],
   "source": [
    "# b\n",
    "X = 1000\n",
    "l = 1/6000\n",
    "res1 = exp_proba(X,l)\n",
    "print(f'Wahrscheinlichkeit für Brenndauer der Sparlampe mehr als {X} Stunden ist {round(res,4)}')\n",
    "X = 6000\n",
    "l = 1/6000\n",
    "res2 = exp_proba(X,l)\n",
    "print(f'Wahrscheinlichkeit für Brenndauer der Sparlampe mehr als {X} Stunden ist {round(res,4)}')\n",
    "print(f'Somit ergibt sich eine Wahrscheinlichkeit von {round(res1-res2,4)}')"
   ]
  },
  {
   "cell_type": "markdown",
   "metadata": {},
   "source": [
    "# Aufgabe 2"
   ]
  },
  {
   "cell_type": "code",
   "execution_count": 37,
   "metadata": {},
   "outputs": [
    {
     "name": "stdout",
     "output_type": "stream",
     "text": [
      "0.2865\n"
     ]
    }
   ],
   "source": [
    "# a\n",
    "X = 10\n",
    "l = 1/8\n",
    "res = exp_proba(X,l)\n",
    "print(round(res,4))"
   ]
  },
  {
   "cell_type": "code",
   "execution_count": 38,
   "metadata": {},
   "outputs": [
    {
     "name": "stdout",
     "output_type": "stream",
     "text": [
      "0.6321\n"
     ]
    }
   ],
   "source": [
    "# b\n",
    "X = 8\n",
    "l = 1/8\n",
    "res = exp_proba(X,l)\n",
    "print(1-round(res,4))"
   ]
  },
  {
   "cell_type": "markdown",
   "metadata": {},
   "source": [
    "# Aufgabe 3"
   ]
  },
  {
   "cell_type": "markdown",
   "metadata": {},
   "source": [
    "a)\n",
    "Auflösen nach $\\lambda$\n",
    "$$1-e^{-3*\\lambda}=0.2592$$\n",
    "$$-e^{-3*\\lambda}=0.2592-1$$\n",
    "$$e^{-3*\\lambda}=1-0.2592$$\n",
    "$$-3*\\lambda=ln(1-0.2592)$$\n",
    "$$-\\lambda=\\frac{ln(1-0.2592)}{3}$$\n",
    "$$\\lambda=-\\frac{ln(1-0.2592)}{3}$$\n",
    "$$\\lambda=0.1$$\n"
   ]
  },
  {
   "cell_type": "markdown",
   "metadata": {},
   "source": [
    "b) $\\frac{1}{\\lambda}$ = 10 Jahre"
   ]
  },
  {
   "cell_type": "markdown",
   "metadata": {},
   "source": [
    "c) Auflösen nach x\n",
    "$$1-e^{-x\\lambda}=0.5$$\n",
    "$$-e^{-x\\lambda}=0.5-1$$\n",
    "$$e^{-x\\lambda}=0.5$$\n",
    "$$-x\\lambda=ln(0.5)$$\n",
    "$$-x=\\frac{ln(0.5)}{\\lambda}$$\n",
    "$$x=-\\frac{ln(0.5)}{\\lambda}$$\n",
    "$$x=-\\frac{ln(0.5)}{0.1}$$\n",
    "$$x=-ln(0.5)*10$$\n",
    "\n",
    "\n",
    "6.93 Jahre"
   ]
  },
  {
   "cell_type": "markdown",
   "metadata": {},
   "source": [
    "# Aufgabe 4"
   ]
  },
  {
   "cell_type": "markdown",
   "metadata": {},
   "source": [
    "a) 0\n",
    "\n",
    "b und c kann auch mit Standardnormalverteilungstabelle berechnet werden\n",
    "\n",
    "1. $\\frac{Gesuchter Wert - Mean}{Standardabweichung}$\n",
    "\n",
    "2. Wert in Tabelle nachschauen\n",
    "\n",
    "3. 1 - Wert aus Tabelle"
   ]
  },
  {
   "cell_type": "code",
   "execution_count": 220,
   "metadata": {},
   "outputs": [
    {
     "name": "stdout",
     "output_type": "stream",
     "text": [
      "Antwort B: 0.6826894921370859\n",
      "Antwort C: 0.0013\n",
      "Antwort D: 116.7757\n"
     ]
    },
    {
     "data": {
      "text/plain": [
       "0.15865525393145707"
      ]
     },
     "execution_count": 220,
     "metadata": {},
     "output_type": "execute_result"
    }
   ],
   "source": [
    "import scipy.stats as sp\n",
    "\n",
    "b = sp.norm(125,5).cdf(130) - sp.norm(125,5).cdf(120)\n",
    "print(f'Antwort B: {b}')\n",
    "\n",
    "c = sp.norm(125,5).cdf(110)\n",
    "print(f'Antwort C: {round(c,4)}')\n",
    "\n",
    "d = sp.norm.ppf(0.05, loc=125, scale=5)\n",
    "print(f'Antwort D: {round(d,4)}')"
   ]
  },
  {
   "cell_type": "markdown",
   "metadata": {},
   "source": [
    "# Aufgabe 5"
   ]
  },
  {
   "cell_type": "markdown",
   "metadata": {},
   "source": [
    "1. Wert für 0.9 in der Standardnormalverteilungstabelle suchen, dieser ist ca 1.3\n",
    "\n",
    "2. Dies gibt die Formel $1.3 = \\frac{x-80}{10} = 93 kg$\n"
   ]
  },
  {
   "cell_type": "markdown",
   "metadata": {},
   "source": [
    "# Aufgabe 6"
   ]
  },
  {
   "cell_type": "markdown",
   "metadata": {},
   "source": [
    "a) $\\mu = 32$"
   ]
  },
  {
   "cell_type": "code",
   "execution_count": 23,
   "metadata": {},
   "outputs": [
    {
     "data": {
      "text/plain": [
       "4.4077853201547175"
      ]
     },
     "execution_count": 23,
     "metadata": {},
     "output_type": "execute_result"
    }
   ],
   "source": [
    "# Std\n",
    "np.std([24,34,32,36,38,32,28])"
   ]
  },
  {
   "cell_type": "code",
   "execution_count": 30,
   "metadata": {},
   "outputs": [
    {
     "name": "stdout",
     "output_type": "stream",
     "text": [
      "27.59665076937551 36.40334923062449\n"
     ]
    }
   ],
   "source": [
    "# b)\n",
    "\n",
    "low = 32-(2.447*4.761/math.sqrt(7))\n",
    "high = 32+(2.447*4.761/math.sqrt(7))\n",
    "\n",
    "print(low,high)\n"
   ]
  },
  {
   "cell_type": "markdown",
   "metadata": {},
   "source": [
    "# Aufgabe 7"
   ]
  },
  {
   "cell_type": "code",
   "execution_count": 2,
   "metadata": {},
   "outputs": [
    {
     "name": "stdout",
     "output_type": "stream",
     "text": [
      "50.14 0.37064133606493516\n",
      "49.89167635549172 50.38832364450828\n"
     ]
    }
   ],
   "source": [
    "x = [50.12,49.96,50.35,50.02,49.80,51.00,50.12,49.75]\n",
    "mu = np.mean(x)\n",
    "sigma = np.std(x)\n",
    "\n",
    "print(mu,sigma)\n",
    "\n",
    "low = mu-(1.895*sigma)/math.sqrt(8)\n",
    "high = mu+(1.895*sigma)/math.sqrt(8)\n",
    "\n",
    "print(low,high)"
   ]
  },
  {
   "cell_type": "code",
   "execution_count": 11,
   "metadata": {},
   "outputs": [
    {
     "data": {
      "text/plain": [
       "0.37064133606493516"
      ]
     },
     "execution_count": 11,
     "metadata": {},
     "output_type": "execute_result"
    }
   ],
   "source": [
    "sum = 0\n",
    "for i in x:\n",
    "    sum += (i - mu)**2\n",
    "math.sqrt(sum/len(x))\n"
   ]
  },
  {
   "cell_type": "code",
   "execution_count": 14,
   "metadata": {},
   "outputs": [
    {
     "name": "stdout",
     "output_type": "stream",
     "text": [
      "49.43132756226871 50.84867243773129\n"
     ]
    }
   ],
   "source": [
    "low = mu-(5.408*sigma)/math.sqrt(8)\n",
    "high = mu+(5.408*sigma)/math.sqrt(8)\n",
    "\n",
    "print(low,high)"
   ]
  },
  {
   "cell_type": "markdown",
   "metadata": {},
   "source": [
    "# Aufgabe 9"
   ]
  },
  {
   "cell_type": "code",
   "execution_count": 122,
   "metadata": {},
   "outputs": [],
   "source": [
    "# a) Berechnung mittels Matrizen\n",
    "A = np.array([[1,1],[0,1],[1,1],[1,1],[1,1],[0,1],[1,1],[0,1],[0,1],[1,1],[0,1],[0,1]])\n",
    "b = np.array([[18],[13],[16],[14],[13],[12],[18],[14],[14],[14],[10],[13],])"
   ]
  },
  {
   "cell_type": "code",
   "execution_count": 123,
   "metadata": {},
   "outputs": [
    {
     "data": {
      "text/plain": [
       "array([[ 2.83333333],\n",
       "       [12.66666667]])"
      ]
     },
     "execution_count": 123,
     "metadata": {},
     "output_type": "execute_result"
    }
   ],
   "source": [
    "np.linalg.inv(A.T@A)@(A.T@b)"
   ]
  },
  {
   "cell_type": "code",
   "execution_count": 121,
   "metadata": {},
   "outputs": [
    {
     "name": "stdout",
     "output_type": "stream",
     "text": [
      "12.666666666666668 2.8333333333333335\n"
     ]
    }
   ],
   "source": [
    "x = [1,0,1,1,1,0,1,0,0,1,0,0]\n",
    "y = [18,13,16,14,13,12,18,14,14,14,10,13]\n",
    "\n",
    "x1,x2 = 0,0\n",
    "for i,v in enumerate(x):\n",
    "    x1 += ((x[i]-np.mean(x))*(y[i]-np.mean(y)))\n",
    "    x2 += (x[i]-np.mean(x))**2\n",
    "beta = x1/x2\n",
    "\n",
    "alpha = np.mean(y)-beta*np.mean(x)\n",
    "\n",
    "print(alpha,beta)"
   ]
  },
  {
   "cell_type": "code",
   "execution_count": 124,
   "metadata": {},
   "outputs": [
    {
     "name": "stdout",
     "output_type": "stream",
     "text": [
      "12.666666666666666 [2.83333333]\n"
     ]
    }
   ],
   "source": [
    "# oder mit sklearn\n",
    "from sklearn.linear_model import LinearRegression\n",
    "\n",
    "x = np.array(x).reshape((-1,1))\n",
    "model = LinearRegression().fit(x,y)\n",
    "print(model.intercept_,model.coef_)"
   ]
  },
  {
   "cell_type": "code",
   "execution_count": 125,
   "metadata": {},
   "outputs": [
    {
     "data": {
      "text/plain": [
       "0.4087694483734087"
      ]
     },
     "execution_count": 125,
     "metadata": {},
     "output_type": "execute_result"
    }
   ],
   "source": [
    "# b) Calculate R squared\n",
    "model.score(x,y)"
   ]
  },
  {
   "cell_type": "code",
   "execution_count": 134,
   "metadata": {},
   "outputs": [
    {
     "data": {
      "text/plain": [
       "-408796.6217367525"
      ]
     },
     "execution_count": 134,
     "metadata": {},
     "output_type": "execute_result"
    }
   ],
   "source": [
    "# c) Konfidenzinterval\n",
    "# aus der Regression haben wir Slope und Intercept\n",
    "a = 2.8333\n",
    "b = 12.6667\n",
    "\n",
    "# Predicted werte für x\n",
    "yhat = np.array(x) * a + b\n",
    "y = np.array(y).reshape(-1,1)"
   ]
  },
  {
   "cell_type": "code",
   "execution_count": 186,
   "metadata": {},
   "outputs": [
    {
     "data": {
      "text/plain": [
       "1.8663690240678557"
      ]
     },
     "execution_count": 186,
     "metadata": {},
     "output_type": "execute_result"
    }
   ],
   "source": [
    "sigma = np.sqrt(np.sum((y-yhat)**2) / (len(y)-2))\n",
    "sigma"
   ]
  },
  {
   "cell_type": "code",
   "execution_count": 188,
   "metadata": {},
   "outputs": [
    {
     "data": {
      "text/plain": [
       "1.0775486584527556"
      ]
     },
     "execution_count": 188,
     "metadata": {},
     "output_type": "execute_result"
    }
   ],
   "source": [
    "sigmahat = sigma / np.sqrt(np.sum((x - np.mean(x)) ** 2))\n",
    "sigmahat"
   ]
  },
  {
   "cell_type": "code",
   "execution_count": 189,
   "metadata": {},
   "outputs": [
    {
     "data": {
      "text/plain": [
       "5.23407841103274"
      ]
     },
     "execution_count": 189,
     "metadata": {},
     "output_type": "execute_result"
    }
   ],
   "source": [
    "a + sigmahat*2.228"
   ]
  },
  {
   "cell_type": "markdown",
   "metadata": {},
   "source": [
    "# Aufgabe 10"
   ]
  },
  {
   "cell_type": "code",
   "execution_count": 95,
   "metadata": {},
   "outputs": [
    {
     "data": {
      "text/plain": [
       "-2.5483870967741935"
      ]
     },
     "execution_count": 95,
     "metadata": {},
     "output_type": "execute_result"
    }
   ],
   "source": [
    "(-0.25*3.16) / 0.31"
   ]
  },
  {
   "cell_type": "markdown",
   "metadata": {},
   "source": [
    "# Aufgabe 11"
   ]
  },
  {
   "cell_type": "code",
   "execution_count": 204,
   "metadata": {},
   "outputs": [
    {
     "name": "stdout",
     "output_type": "stream",
     "text": [
      "49.2 51.6\n"
     ]
    }
   ],
   "source": [
    "f = np.array([40,50,43,48,65])\n",
    "r = np.array([42,58,42,64,52])\n",
    "\n",
    "f_mean = np.mean(f)\n",
    "f_var = np.var(f,ddof=1)\n",
    "\n",
    "r_mean = np.mean(r)\n",
    "r_var = np.var(r,ddof=1)\n",
    "\n",
    "print(f_mean,r_mean)"
   ]
  },
  {
   "cell_type": "code",
   "execution_count": 212,
   "metadata": {},
   "outputs": [
    {
     "data": {
      "text/plain": [
       "94.8"
      ]
     },
     "execution_count": 212,
     "metadata": {},
     "output_type": "execute_result"
    }
   ],
   "source": [
    "np.std(r,ddof=1)**2"
   ]
  },
  {
   "cell_type": "code",
   "execution_count": 216,
   "metadata": {},
   "outputs": [],
   "source": [
    "s_squared = (4*f_var + 4*r_var) / 8\n",
    "s = np.sqrt(s_squared)"
   ]
  },
  {
   "cell_type": "code",
   "execution_count": 218,
   "metadata": {},
   "outputs": [
    {
     "data": {
      "text/plain": [
       "-0.39087740519067354"
      ]
     },
     "execution_count": 218,
     "metadata": {},
     "output_type": "execute_result"
    }
   ],
   "source": [
    "t = ((f_mean - r_mean) / s) * np.sqrt(25/10)\n",
    "t"
   ]
  },
  {
   "cell_type": "code",
   "execution_count": null,
   "metadata": {},
   "outputs": [],
   "source": []
  }
 ],
 "metadata": {
  "interpreter": {
   "hash": "752579dbebe7f4dfe7c1aa72eac13e23fc88be2cc1ea7ab14e1f8d69b2d97d12"
  },
  "kernelspec": {
   "display_name": "Python 3.8.3 64-bit",
   "name": "python3"
  },
  "language_info": {
   "codemirror_mode": {
    "name": "ipython",
    "version": 3
   },
   "file_extension": ".py",
   "mimetype": "text/x-python",
   "name": "python",
   "nbconvert_exporter": "python",
   "pygments_lexer": "ipython3",
   "version": "3.8.3"
  },
  "orig_nbformat": 4
 },
 "nbformat": 4,
 "nbformat_minor": 2
}
